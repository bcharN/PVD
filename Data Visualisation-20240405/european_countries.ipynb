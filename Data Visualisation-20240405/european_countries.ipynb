{
 "cells": [
  {
   "cell_type": "code",
   "execution_count": 1,
   "metadata": {},
   "outputs": [],
   "source": [
    "import pandas as pd\n",
    "import matplotlib as plt"
   ]
  },
  {
   "cell_type": "code",
   "execution_count": 2,
   "metadata": {},
   "outputs": [
    {
     "data": {
      "text/html": [
       "<div>\n",
       "<style scoped>\n",
       "    .dataframe tbody tr th:only-of-type {\n",
       "        vertical-align: middle;\n",
       "    }\n",
       "\n",
       "    .dataframe tbody tr th {\n",
       "        vertical-align: top;\n",
       "    }\n",
       "\n",
       "    .dataframe thead th {\n",
       "        text-align: right;\n",
       "    }\n",
       "</style>\n",
       "<table border=\"1\" class=\"dataframe\">\n",
       "  <thead>\n",
       "    <tr style=\"text-align: right;\">\n",
       "      <th></th>\n",
       "      <th>Name</th>\n",
       "      <th>Region</th>\n",
       "      <th>Capital</th>\n",
       "      <th>Area</th>\n",
       "      <th>Population</th>\n",
       "      <th>Currency</th>\n",
       "    </tr>\n",
       "  </thead>\n",
       "  <tbody>\n",
       "    <tr>\n",
       "      <th>0</th>\n",
       "      <td>Austria</td>\n",
       "      <td>Central Europe</td>\n",
       "      <td>Vienna</td>\n",
       "      <td>83871</td>\n",
       "      <td>9119533</td>\n",
       "      <td>Euro (EUR)</td>\n",
       "    </tr>\n",
       "    <tr>\n",
       "      <th>1</th>\n",
       "      <td>Belarus</td>\n",
       "      <td>Eastern Europe</td>\n",
       "      <td>Minsk</td>\n",
       "      <td>207600</td>\n",
       "      <td>9398867</td>\n",
       "      <td>Belarusian ruble (BYN)</td>\n",
       "    </tr>\n",
       "    <tr>\n",
       "      <th>2</th>\n",
       "      <td>Bosnia and Herzegovina</td>\n",
       "      <td>Southeast Europe</td>\n",
       "      <td>Sarajevo</td>\n",
       "      <td>51129</td>\n",
       "      <td>3295931</td>\n",
       "      <td>Bosnian convertible mark (BAM)</td>\n",
       "    </tr>\n",
       "    <tr>\n",
       "      <th>3</th>\n",
       "      <td>Bulgaria</td>\n",
       "      <td>Southeast Europe</td>\n",
       "      <td>Sofia</td>\n",
       "      <td>110994</td>\n",
       "      <td>6818088</td>\n",
       "      <td>Bulgarian lev (BGN)</td>\n",
       "    </tr>\n",
       "    <tr>\n",
       "      <th>4</th>\n",
       "      <td>Croatia</td>\n",
       "      <td>Southeast Europe</td>\n",
       "      <td>Zagreb</td>\n",
       "      <td>56594</td>\n",
       "      <td>4040905</td>\n",
       "      <td>Croatian kuna (HRK)</td>\n",
       "    </tr>\n",
       "    <tr>\n",
       "      <th>5</th>\n",
       "      <td>Czech Republic</td>\n",
       "      <td>Central Europe</td>\n",
       "      <td>Prague</td>\n",
       "      <td>78866</td>\n",
       "      <td>10706997</td>\n",
       "      <td>Czech koruna (CZK)</td>\n",
       "    </tr>\n",
       "    <tr>\n",
       "      <th>6</th>\n",
       "      <td>Estonia</td>\n",
       "      <td>Northern Europe</td>\n",
       "      <td>Tallinn</td>\n",
       "      <td>43515</td>\n",
       "      <td>1329959</td>\n",
       "      <td>Euro (EUR)</td>\n",
       "    </tr>\n",
       "    <tr>\n",
       "      <th>7</th>\n",
       "      <td>Hungary</td>\n",
       "      <td>Central Europe</td>\n",
       "      <td>Budapest</td>\n",
       "      <td>93030</td>\n",
       "      <td>9660349</td>\n",
       "      <td>Hungarian forint (HUF)</td>\n",
       "    </tr>\n",
       "    <tr>\n",
       "      <th>8</th>\n",
       "      <td>Latvia</td>\n",
       "      <td>Northern Europe</td>\n",
       "      <td>Riga</td>\n",
       "      <td>64589</td>\n",
       "      <td>1899500</td>\n",
       "      <td>Euro (EUR)</td>\n",
       "    </tr>\n",
       "    <tr>\n",
       "      <th>9</th>\n",
       "      <td>Lithuania</td>\n",
       "      <td>Northern Europe</td>\n",
       "      <td>Vilnius</td>\n",
       "      <td>62688</td>\n",
       "      <td>2794290</td>\n",
       "      <td>Euro (EUR)</td>\n",
       "    </tr>\n",
       "    <tr>\n",
       "      <th>10</th>\n",
       "      <td>Moldova</td>\n",
       "      <td>Eastern Europe</td>\n",
       "      <td>Chișinău</td>\n",
       "      <td>33843</td>\n",
       "      <td>2597000</td>\n",
       "      <td>Moldovan leu (MDL)</td>\n",
       "    </tr>\n",
       "    <tr>\n",
       "      <th>11</th>\n",
       "      <td>Poland</td>\n",
       "      <td>Central Europe</td>\n",
       "      <td>Warsaw</td>\n",
       "      <td>312679</td>\n",
       "      <td>38036287</td>\n",
       "      <td>Polish złoty (PLN)</td>\n",
       "    </tr>\n",
       "    <tr>\n",
       "      <th>12</th>\n",
       "      <td>Romania</td>\n",
       "      <td>Southeast Europe</td>\n",
       "      <td>Bucharest</td>\n",
       "      <td>238391</td>\n",
       "      <td>19193261</td>\n",
       "      <td>Romanian leu (RON)</td>\n",
       "    </tr>\n",
       "    <tr>\n",
       "      <th>13</th>\n",
       "      <td>Slovakia</td>\n",
       "      <td>Central Europe</td>\n",
       "      <td>Bratislava</td>\n",
       "      <td>49035</td>\n",
       "      <td>5465662</td>\n",
       "      <td>Euro (EUR)</td>\n",
       "    </tr>\n",
       "    <tr>\n",
       "      <th>14</th>\n",
       "      <td>Slovenia</td>\n",
       "      <td>Central Europe</td>\n",
       "      <td>Ljubljana</td>\n",
       "      <td>20273</td>\n",
       "      <td>2100795</td>\n",
       "      <td>Euro (EUR)</td>\n",
       "    </tr>\n",
       "    <tr>\n",
       "      <th>15</th>\n",
       "      <td>Ukraine</td>\n",
       "      <td>Eastern Europe</td>\n",
       "      <td>Kyiv</td>\n",
       "      <td>603550</td>\n",
       "      <td>42990498</td>\n",
       "      <td>Ukrainian hryvnia (UAH)</td>\n",
       "    </tr>\n",
       "  </tbody>\n",
       "</table>\n",
       "</div>"
      ],
      "text/plain": [
       "                      Name            Region     Capital    Area  Population  \\\n",
       "0                  Austria    Central Europe      Vienna   83871     9119533   \n",
       "1                  Belarus    Eastern Europe       Minsk  207600     9398867   \n",
       "2   Bosnia and Herzegovina  Southeast Europe    Sarajevo   51129     3295931   \n",
       "3                 Bulgaria  Southeast Europe       Sofia  110994     6818088   \n",
       "4                  Croatia  Southeast Europe      Zagreb   56594     4040905   \n",
       "5           Czech Republic    Central Europe      Prague   78866    10706997   \n",
       "6                  Estonia   Northern Europe     Tallinn   43515     1329959   \n",
       "7                  Hungary    Central Europe    Budapest   93030     9660349   \n",
       "8                   Latvia   Northern Europe        Riga   64589     1899500   \n",
       "9                Lithuania   Northern Europe     Vilnius   62688     2794290   \n",
       "10                 Moldova    Eastern Europe    Chișinău   33843     2597000   \n",
       "11                  Poland    Central Europe      Warsaw  312679    38036287   \n",
       "12                 Romania  Southeast Europe   Bucharest  238391    19193261   \n",
       "13                Slovakia    Central Europe  Bratislava   49035     5465662   \n",
       "14                Slovenia    Central Europe   Ljubljana   20273     2100795   \n",
       "15                 Ukraine    Eastern Europe        Kyiv  603550    42990498   \n",
       "\n",
       "                          Currency  \n",
       "0                       Euro (EUR)  \n",
       "1           Belarusian ruble (BYN)  \n",
       "2   Bosnian convertible mark (BAM)  \n",
       "3              Bulgarian lev (BGN)  \n",
       "4              Croatian kuna (HRK)  \n",
       "5               Czech koruna (CZK)  \n",
       "6                       Euro (EUR)  \n",
       "7           Hungarian forint (HUF)  \n",
       "8                       Euro (EUR)  \n",
       "9                       Euro (EUR)  \n",
       "10              Moldovan leu (MDL)  \n",
       "11              Polish złoty (PLN)  \n",
       "12              Romanian leu (RON)  \n",
       "13                      Euro (EUR)  \n",
       "14                      Euro (EUR)  \n",
       "15         Ukrainian hryvnia (UAH)  "
      ]
     },
     "execution_count": 2,
     "metadata": {},
     "output_type": "execute_result"
    }
   ],
   "source": [
    "ec  = pd.read_csv('european-countries.csv')\n",
    "ec"
   ]
  },
  {
   "cell_type": "code",
   "execution_count": 3,
   "metadata": {},
   "outputs": [],
   "source": [
    "ecq = ec.query(\"Region == 'Central Europe'\").sort_values('Population')\n",
    "ecq = ecq.reset_index()\n"
   ]
  },
  {
   "cell_type": "code",
   "execution_count": 4,
   "metadata": {},
   "outputs": [
    {
     "data": {
      "text/html": [
       "<div>\n",
       "<style scoped>\n",
       "    .dataframe tbody tr th:only-of-type {\n",
       "        vertical-align: middle;\n",
       "    }\n",
       "\n",
       "    .dataframe tbody tr th {\n",
       "        vertical-align: top;\n",
       "    }\n",
       "\n",
       "    .dataframe thead th {\n",
       "        text-align: right;\n",
       "    }\n",
       "</style>\n",
       "<table border=\"1\" class=\"dataframe\">\n",
       "  <thead>\n",
       "    <tr style=\"text-align: right;\">\n",
       "      <th></th>\n",
       "      <th>index</th>\n",
       "      <th>Name</th>\n",
       "      <th>Region</th>\n",
       "      <th>Capital</th>\n",
       "      <th>Area</th>\n",
       "      <th>Population</th>\n",
       "      <th>Currency</th>\n",
       "    </tr>\n",
       "  </thead>\n",
       "  <tbody>\n",
       "    <tr>\n",
       "      <th>0</th>\n",
       "      <td>14</td>\n",
       "      <td>Slovenia</td>\n",
       "      <td>Central Europe</td>\n",
       "      <td>Ljubljana</td>\n",
       "      <td>20273</td>\n",
       "      <td>2100795</td>\n",
       "      <td>Euro (EUR)</td>\n",
       "    </tr>\n",
       "    <tr>\n",
       "      <th>1</th>\n",
       "      <td>13</td>\n",
       "      <td>Slovakia</td>\n",
       "      <td>Central Europe</td>\n",
       "      <td>Bratislava</td>\n",
       "      <td>49035</td>\n",
       "      <td>5465662</td>\n",
       "      <td>Euro (EUR)</td>\n",
       "    </tr>\n",
       "    <tr>\n",
       "      <th>2</th>\n",
       "      <td>0</td>\n",
       "      <td>Austria</td>\n",
       "      <td>Central Europe</td>\n",
       "      <td>Vienna</td>\n",
       "      <td>83871</td>\n",
       "      <td>9119533</td>\n",
       "      <td>Euro (EUR)</td>\n",
       "    </tr>\n",
       "    <tr>\n",
       "      <th>3</th>\n",
       "      <td>7</td>\n",
       "      <td>Hungary</td>\n",
       "      <td>Central Europe</td>\n",
       "      <td>Budapest</td>\n",
       "      <td>93030</td>\n",
       "      <td>9660349</td>\n",
       "      <td>Hungarian forint (HUF)</td>\n",
       "    </tr>\n",
       "    <tr>\n",
       "      <th>4</th>\n",
       "      <td>5</td>\n",
       "      <td>Czech Republic</td>\n",
       "      <td>Central Europe</td>\n",
       "      <td>Prague</td>\n",
       "      <td>78866</td>\n",
       "      <td>10706997</td>\n",
       "      <td>Czech koruna (CZK)</td>\n",
       "    </tr>\n",
       "    <tr>\n",
       "      <th>5</th>\n",
       "      <td>11</td>\n",
       "      <td>Poland</td>\n",
       "      <td>Central Europe</td>\n",
       "      <td>Warsaw</td>\n",
       "      <td>312679</td>\n",
       "      <td>38036287</td>\n",
       "      <td>Polish złoty (PLN)</td>\n",
       "    </tr>\n",
       "  </tbody>\n",
       "</table>\n",
       "</div>"
      ],
      "text/plain": [
       "   index            Name          Region     Capital    Area  Population  \\\n",
       "0     14        Slovenia  Central Europe   Ljubljana   20273     2100795   \n",
       "1     13        Slovakia  Central Europe  Bratislava   49035     5465662   \n",
       "2      0         Austria  Central Europe      Vienna   83871     9119533   \n",
       "3      7         Hungary  Central Europe    Budapest   93030     9660349   \n",
       "4      5  Czech Republic  Central Europe      Prague   78866    10706997   \n",
       "5     11          Poland  Central Europe      Warsaw  312679    38036287   \n",
       "\n",
       "                 Currency  \n",
       "0              Euro (EUR)  \n",
       "1              Euro (EUR)  \n",
       "2              Euro (EUR)  \n",
       "3  Hungarian forint (HUF)  \n",
       "4      Czech koruna (CZK)  \n",
       "5      Polish złoty (PLN)  "
      ]
     },
     "execution_count": 4,
     "metadata": {},
     "output_type": "execute_result"
    }
   ],
   "source": [
    "ecq"
   ]
  },
  {
   "cell_type": "code",
   "execution_count": 5,
   "metadata": {},
   "outputs": [
    {
     "data": {
      "text/plain": [
       "[Text(0, 0, 'Slovenia'),\n",
       " Text(1, 0, 'Slovakia'),\n",
       " Text(2, 0, 'Austria'),\n",
       " Text(3, 0, 'Hungary'),\n",
       " Text(4, 0, 'Czech Republic'),\n",
       " Text(5, 0, 'Poland')]"
      ]
     },
     "execution_count": 5,
     "metadata": {},
     "output_type": "execute_result"
    },
    {
     "data": {
      "image/png": "[encoded data removed]",
      "text/plain": [
       "<Figure size 640x480 with 1 Axes>"
      ]
     },
     "metadata": {},
     "output_type": "display_data"
    }
   ],
   "source": [
    "\n",
    "ecplt = ecq['Population'].plot(kind='bar')\n",
    "\n",
    "ecplt.set_xticks(ecq.index)\n",
    "ecplt.set_xticklabels(ecq.Name)\n"
   ]
  },
  {
   "cell_type": "code",
   "execution_count": 6,
   "metadata": {},
   "outputs": [
    {
     "data": {
      "text/plain": [
       "637754"
      ]
     },
     "execution_count": 6,
     "metadata": {},
     "output_type": "execute_result"
    }
   ],
   "source": [
    "total_area = ecq['Area'].sum()\n",
    "total_area"
   ]
  },
  {
   "cell_type": "code",
   "execution_count": 21,
   "metadata": {},
   "outputs": [
    {
     "data": {
      "text/plain": [
       "pandas.core.series.Series"
      ]
     },
     "execution_count": 21,
     "metadata": {},
     "output_type": "execute_result"
    }
   ],
   "source": [
    "\n",
    "#ecs = ecq[['Name','Area']].iloc[:,[0,1]].squeeze()\n",
    "ar = ecq['Area']\n",
    "ind = ecq['Name']\n",
    "ecs = pd.Series(data=ar)\n",
    "ecs.index=ind\n",
    "type(ecs)\n"
   ]
  },
  {
   "cell_type": "code",
   "execution_count": 22,
   "metadata": {},
   "outputs": [
    {
     "data": {
      "text/plain": [
       "Name\n",
       "Slovenia           20273\n",
       "Slovakia           49035\n",
       "Austria            83871\n",
       "Hungary            93030\n",
       "Czech Republic     78866\n",
       "Poland            312679\n",
       "Name: Area, dtype: int64"
      ]
     },
     "execution_count": 22,
     "metadata": {},
     "output_type": "execute_result"
    }
   ],
   "source": [
    "ecs\n",
    "# type(ind)"
   ]
  },
  {
   "cell_type": "code",
   "execution_count": 23,
   "metadata": {},
   "outputs": [
    {
     "data": {
      "text/plain": [
       "<Axes: ylabel='Area'>"
      ]
     },
     "execution_count": 23,
     "metadata": {},
     "output_type": "execute_result"
    },
    {
     "data": {
      "image/png": "[encoded data removed]",
      "text/plain": [
       "<Figure size 640x480 with 1 Axes>"
      ]
     },
     "metadata": {},
     "output_type": "display_data"
    }
   ],
   "source": [
    "ecs.plot(kind='pie',autopct='%1.0f%%')\n",
    "\n",
    "# ecplt.set_xticks(ecq.Name)\n",
    "# ecplt.set_xticklabels(ecq.Name)\n"
   ]
  },
  {
   "cell_type": "code",
   "execution_count": null,
   "metadata": {},
   "outputs": [],
   "source": []
  }
 ],
 "metadata": {
  "kernelspec": {
   "display_name": "Python 3",
   "language": "python",
   "name": "python3"
  },
  "language_info": {
   "codemirror_mode": {
    "name": "ipython",
    "version": 3
   },
   "file_extension": ".py",
   "mimetype": "text/x-python",
   "name": "python",
   "nbconvert_exporter": "python",
   "pygments_lexer": "ipython3",
   "version": "3.12.0"
  }
 },
 "nbformat": 4,
 "nbformat_minor": 2
}
